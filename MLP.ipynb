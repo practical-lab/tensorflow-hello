{
  "nbformat": 4,
  "nbformat_minor": 0,
  "metadata": {
    "colab": {
      "name": "Untitled0.ipynb",
      "provenance": [],
      "authorship_tag": "ABX9TyMdjWt5qul6MLQisobwUu4X",
      "include_colab_link": true
    },
    "kernelspec": {
      "name": "python3",
      "display_name": "Python 3"
    }
  },
  "cells": [
    {
      "cell_type": "markdown",
      "metadata": {
        "id": "view-in-github",
        "colab_type": "text"
      },
      "source": [
        "<a href=\"https://colab.research.google.com/github/practical-lab/tensorflow-hello/blob/master/MLP.ipynb\" target=\"_parent\"><img src=\"https://colab.research.google.com/assets/colab-badge.svg\" alt=\"Open In Colab\"/></a>"
      ]
    },
    {
      "cell_type": "code",
      "metadata": {
        "id": "fAa0rSsIAtb2",
        "colab_type": "code",
        "colab": {}
      },
      "source": [
        "import numpy as np\n",
        "import tensorflow as tf\n",
        "from tensorflow.keras.datasets import mnist\n",
        "from tensorflow.keras.models import Sequential\n",
        "from tensorflow.keras.layers import Dense, Activation\n",
        "from tensorflow.keras.optimizers import SGD"
      ],
      "execution_count": 1,
      "outputs": []
    },
    {
      "cell_type": "code",
      "metadata": {
        "id": "hsaNxHukAxR9",
        "colab_type": "code",
        "colab": {}
      },
      "source": [
        "NB_EPOCH = 200\n",
        "BATCH_SIZE = 128\n",
        "VERBOSE = 1\n",
        "NB_CLASSES = 10\n",
        "OPTIMIZER = SGD()\n",
        "N_HIDDEN = 128\n",
        "VALIDATION_SPLIT = 0.2"
      ],
      "execution_count": 2,
      "outputs": []
    },
    {
      "cell_type": "code",
      "metadata": {
        "id": "a61N6SagA3TP",
        "colab_type": "code",
        "colab": {
          "base_uri": "https://localhost:8080/",
          "height": 51
        },
        "outputId": "f4f5c5cf-8ed8-4739-efeb-3d6e86a9517a"
      },
      "source": [
        "# data:\n",
        "(X_train, y_train), (X_test, y_test) = mnist.load_data()"
      ],
      "execution_count": 3,
      "outputs": [
        {
          "output_type": "stream",
          "text": [
            "Downloading data from https://storage.googleapis.com/tensorflow/tf-keras-datasets/mnist.npz\n",
            "11493376/11490434 [==============================] - 0s 0us/step\n"
          ],
          "name": "stdout"
        }
      ]
    },
    {
      "cell_type": "code",
      "metadata": {
        "id": "bAJ63t4CA5cl",
        "colab_type": "code",
        "colab": {}
      },
      "source": [
        "# 28 × 28 = 784\n",
        "RESHAPED = 784"
      ],
      "execution_count": 4,
      "outputs": []
    },
    {
      "cell_type": "code",
      "metadata": {
        "id": "ipLyRxKiA8fs",
        "colab_type": "code",
        "colab": {}
      },
      "source": [
        "X_train = X_train.reshape(60000, RESHAPED)\n",
        "X_test = X_test.reshape(10000, RESHAPED)\n",
        "X_train = X_train.astype('float32')\n",
        "X_test = X_test.astype('float32')"
      ],
      "execution_count": 5,
      "outputs": []
    },
    {
      "cell_type": "code",
      "metadata": {
        "id": "Mb4AJZCDA-hy",
        "colab_type": "code",
        "colab": {
          "base_uri": "https://localhost:8080/",
          "height": 51
        },
        "outputId": "34a1fbda-8483-497d-8a7b-1a363b5824cd"
      },
      "source": [
        "# normalize\n",
        "X_train /= 255\n",
        "X_test /= 255\n",
        "print(X_train.shape[0], 'train samples')\n",
        "print(X_test.shape[0], 'test samples')"
      ],
      "execution_count": 6,
      "outputs": [
        {
          "output_type": "stream",
          "text": [
            "60000 train samples\n",
            "10000 test samples\n"
          ],
          "name": "stdout"
        }
      ]
    },
    {
      "cell_type": "code",
      "metadata": {
        "id": "FVlJbyb4BAvb",
        "colab_type": "code",
        "colab": {}
      },
      "source": [
        "np.random.seed(1671) # for reproducibility"
      ],
      "execution_count": 7,
      "outputs": []
    },
    {
      "cell_type": "code",
      "metadata": {
        "id": "BsXP0GX8BFud",
        "colab_type": "code",
        "colab": {}
      },
      "source": [
        "# convert class vectors to binary class metrics\n",
        "Y_train = tf.keras.utils.to_categorical(y_train, NB_CLASSES)\n",
        "Y_test = tf.keras.utils.to_categorical(y_test, NB_CLASSES)"
      ],
      "execution_count": 8,
      "outputs": []
    },
    {
      "cell_type": "code",
      "metadata": {
        "id": "feMXN3IRBHsy",
        "colab_type": "code",
        "colab": {}
      },
      "source": [
        "model = Sequential()\n",
        "model.add(Dense(NB_CLASSES, input_shape=(RESHAPED,)))\n",
        "model.add(Activation('softmax'))"
      ],
      "execution_count": 9,
      "outputs": []
    },
    {
      "cell_type": "code",
      "metadata": {
        "id": "hHRIGe0-BJjD",
        "colab_type": "code",
        "colab": {
          "base_uri": "https://localhost:8080/",
          "height": 221
        },
        "outputId": "29892c7d-e30b-45c9-cc3c-2b56abd77489"
      },
      "source": [
        "model.summary()"
      ],
      "execution_count": 10,
      "outputs": [
        {
          "output_type": "stream",
          "text": [
            "Model: \"sequential\"\n",
            "_________________________________________________________________\n",
            "Layer (type)                 Output Shape              Param #   \n",
            "=================================================================\n",
            "dense (Dense)                (None, 10)                7850      \n",
            "_________________________________________________________________\n",
            "activation (Activation)      (None, 10)                0         \n",
            "=================================================================\n",
            "Total params: 7,850\n",
            "Trainable params: 7,850\n",
            "Non-trainable params: 0\n",
            "_________________________________________________________________\n"
          ],
          "name": "stdout"
        }
      ]
    },
    {
      "cell_type": "code",
      "metadata": {
        "id": "0cHQ3_4wBME8",
        "colab_type": "code",
        "colab": {}
      },
      "source": [
        "model.compile(loss='categorical_crossentropy',\n",
        "              optimizer=OPTIMIZER,\n",
        "              metrics=['accuracy'])"
      ],
      "execution_count": 11,
      "outputs": []
    },
    {
      "cell_type": "code",
      "metadata": {
        "id": "1GYFQfCJBOgt",
        "colab_type": "code",
        "colab": {
          "base_uri": "https://localhost:8080/",
          "height": 1000
        },
        "outputId": "c14f60c3-b1c6-4825-c27b-475515833088"
      },
      "source": [
        "model.fit(X_train, Y_train,\n",
        "          batch_size=BATCH_SIZE, epochs=NB_EPOCH,\n",
        "          verbose=VERBOSE, validation_split=VALIDATION_SPLIT)"
      ],
      "execution_count": 12,
      "outputs": [
        {
          "output_type": "stream",
          "text": [
            "Epoch 1/200\n",
            "375/375 [==============================] - 1s 2ms/step - loss: 1.4003 - accuracy: 0.6649 - val_loss: 0.8943 - val_accuracy: 0.8329\n",
            "Epoch 2/200\n",
            "375/375 [==============================] - 1s 2ms/step - loss: 0.7913 - accuracy: 0.8318 - val_loss: 0.6551 - val_accuracy: 0.8565\n",
            "Epoch 3/200\n",
            "375/375 [==============================] - 1s 2ms/step - loss: 0.6412 - accuracy: 0.8514 - val_loss: 0.5602 - val_accuracy: 0.8696\n",
            "Epoch 4/200\n",
            "375/375 [==============================] - 1s 2ms/step - loss: 0.5693 - accuracy: 0.8618 - val_loss: 0.5077 - val_accuracy: 0.8762\n",
            "Epoch 5/200\n",
            "375/375 [==============================] - 1s 2ms/step - loss: 0.5255 - accuracy: 0.8680 - val_loss: 0.4737 - val_accuracy: 0.8817\n",
            "Epoch 6/200\n",
            "375/375 [==============================] - 1s 2ms/step - loss: 0.4955 - accuracy: 0.8730 - val_loss: 0.4497 - val_accuracy: 0.8865\n",
            "Epoch 7/200\n",
            "375/375 [==============================] - 1s 2ms/step - loss: 0.4733 - accuracy: 0.8777 - val_loss: 0.4317 - val_accuracy: 0.8892\n",
            "Epoch 8/200\n",
            "375/375 [==============================] - 1s 2ms/step - loss: 0.4561 - accuracy: 0.8811 - val_loss: 0.4174 - val_accuracy: 0.8922\n",
            "Epoch 9/200\n",
            "375/375 [==============================] - 1s 2ms/step - loss: 0.4422 - accuracy: 0.8836 - val_loss: 0.4062 - val_accuracy: 0.8945\n",
            "Epoch 10/200\n",
            "375/375 [==============================] - 1s 2ms/step - loss: 0.4306 - accuracy: 0.8859 - val_loss: 0.3965 - val_accuracy: 0.8974\n",
            "Epoch 11/200\n",
            "375/375 [==============================] - 1s 2ms/step - loss: 0.4209 - accuracy: 0.8879 - val_loss: 0.3885 - val_accuracy: 0.8993\n",
            "Epoch 12/200\n",
            "375/375 [==============================] - 1s 2ms/step - loss: 0.4126 - accuracy: 0.8894 - val_loss: 0.3815 - val_accuracy: 0.8993\n",
            "Epoch 13/200\n",
            "375/375 [==============================] - 1s 2ms/step - loss: 0.4053 - accuracy: 0.8912 - val_loss: 0.3755 - val_accuracy: 0.8999\n",
            "Epoch 14/200\n",
            "375/375 [==============================] - 1s 2ms/step - loss: 0.3988 - accuracy: 0.8924 - val_loss: 0.3703 - val_accuracy: 0.9015\n",
            "Epoch 15/200\n",
            "375/375 [==============================] - 1s 2ms/step - loss: 0.3931 - accuracy: 0.8940 - val_loss: 0.3653 - val_accuracy: 0.9022\n",
            "Epoch 16/200\n",
            "375/375 [==============================] - 1s 2ms/step - loss: 0.3880 - accuracy: 0.8951 - val_loss: 0.3611 - val_accuracy: 0.9036\n",
            "Epoch 17/200\n",
            "375/375 [==============================] - 1s 2ms/step - loss: 0.3833 - accuracy: 0.8960 - val_loss: 0.3573 - val_accuracy: 0.9046\n",
            "Epoch 18/200\n",
            "375/375 [==============================] - 1s 2ms/step - loss: 0.3791 - accuracy: 0.8972 - val_loss: 0.3537 - val_accuracy: 0.9053\n",
            "Epoch 19/200\n",
            "375/375 [==============================] - 1s 2ms/step - loss: 0.3751 - accuracy: 0.8981 - val_loss: 0.3505 - val_accuracy: 0.9059\n",
            "Epoch 20/200\n",
            "375/375 [==============================] - 1s 2ms/step - loss: 0.3715 - accuracy: 0.8988 - val_loss: 0.3475 - val_accuracy: 0.9065\n",
            "Epoch 21/200\n",
            "375/375 [==============================] - 1s 2ms/step - loss: 0.3682 - accuracy: 0.8996 - val_loss: 0.3448 - val_accuracy: 0.9068\n",
            "Epoch 22/200\n",
            "375/375 [==============================] - 1s 2ms/step - loss: 0.3651 - accuracy: 0.9001 - val_loss: 0.3423 - val_accuracy: 0.9078\n",
            "Epoch 23/200\n",
            "375/375 [==============================] - 1s 2ms/step - loss: 0.3622 - accuracy: 0.9011 - val_loss: 0.3399 - val_accuracy: 0.9084\n",
            "Epoch 24/200\n",
            "375/375 [==============================] - 1s 2ms/step - loss: 0.3596 - accuracy: 0.9017 - val_loss: 0.3376 - val_accuracy: 0.9088\n",
            "Epoch 25/200\n",
            "375/375 [==============================] - 1s 2ms/step - loss: 0.3570 - accuracy: 0.9021 - val_loss: 0.3355 - val_accuracy: 0.9093\n",
            "Epoch 26/200\n",
            "375/375 [==============================] - 1s 2ms/step - loss: 0.3547 - accuracy: 0.9029 - val_loss: 0.3336 - val_accuracy: 0.9099\n",
            "Epoch 27/200\n",
            "375/375 [==============================] - 1s 2ms/step - loss: 0.3524 - accuracy: 0.9033 - val_loss: 0.3319 - val_accuracy: 0.9111\n",
            "Epoch 28/200\n",
            "375/375 [==============================] - 1s 2ms/step - loss: 0.3502 - accuracy: 0.9040 - val_loss: 0.3302 - val_accuracy: 0.9111\n",
            "Epoch 29/200\n",
            "375/375 [==============================] - 1s 2ms/step - loss: 0.3483 - accuracy: 0.9041 - val_loss: 0.3287 - val_accuracy: 0.9108\n",
            "Epoch 30/200\n",
            "375/375 [==============================] - 1s 2ms/step - loss: 0.3464 - accuracy: 0.9045 - val_loss: 0.3269 - val_accuracy: 0.9112\n",
            "Epoch 31/200\n",
            "375/375 [==============================] - 1s 2ms/step - loss: 0.3445 - accuracy: 0.9044 - val_loss: 0.3255 - val_accuracy: 0.9113\n",
            "Epoch 32/200\n",
            "375/375 [==============================] - 1s 2ms/step - loss: 0.3428 - accuracy: 0.9052 - val_loss: 0.3240 - val_accuracy: 0.9122\n",
            "Epoch 33/200\n",
            "375/375 [==============================] - 1s 2ms/step - loss: 0.3412 - accuracy: 0.9057 - val_loss: 0.3227 - val_accuracy: 0.9120\n",
            "Epoch 34/200\n",
            "375/375 [==============================] - 1s 2ms/step - loss: 0.3396 - accuracy: 0.9059 - val_loss: 0.3214 - val_accuracy: 0.9127\n",
            "Epoch 35/200\n",
            "375/375 [==============================] - 1s 2ms/step - loss: 0.3381 - accuracy: 0.9065 - val_loss: 0.3202 - val_accuracy: 0.9123\n",
            "Epoch 36/200\n",
            "375/375 [==============================] - 1s 2ms/step - loss: 0.3367 - accuracy: 0.9064 - val_loss: 0.3190 - val_accuracy: 0.9122\n",
            "Epoch 37/200\n",
            "375/375 [==============================] - 1s 2ms/step - loss: 0.3353 - accuracy: 0.9073 - val_loss: 0.3179 - val_accuracy: 0.9129\n",
            "Epoch 38/200\n",
            "375/375 [==============================] - 1s 2ms/step - loss: 0.3340 - accuracy: 0.9076 - val_loss: 0.3169 - val_accuracy: 0.9132\n",
            "Epoch 39/200\n",
            "375/375 [==============================] - 1s 2ms/step - loss: 0.3327 - accuracy: 0.9082 - val_loss: 0.3159 - val_accuracy: 0.9131\n",
            "Epoch 40/200\n",
            "375/375 [==============================] - 1s 2ms/step - loss: 0.3315 - accuracy: 0.9082 - val_loss: 0.3149 - val_accuracy: 0.9139\n",
            "Epoch 41/200\n",
            "375/375 [==============================] - 1s 2ms/step - loss: 0.3303 - accuracy: 0.9089 - val_loss: 0.3140 - val_accuracy: 0.9139\n",
            "Epoch 42/200\n",
            "375/375 [==============================] - 1s 2ms/step - loss: 0.3291 - accuracy: 0.9089 - val_loss: 0.3130 - val_accuracy: 0.9151\n",
            "Epoch 43/200\n",
            "375/375 [==============================] - 1s 2ms/step - loss: 0.3280 - accuracy: 0.9093 - val_loss: 0.3123 - val_accuracy: 0.9143\n",
            "Epoch 44/200\n",
            "375/375 [==============================] - 1s 2ms/step - loss: 0.3270 - accuracy: 0.9095 - val_loss: 0.3113 - val_accuracy: 0.9152\n",
            "Epoch 45/200\n",
            "375/375 [==============================] - 1s 2ms/step - loss: 0.3259 - accuracy: 0.9096 - val_loss: 0.3106 - val_accuracy: 0.9152\n",
            "Epoch 46/200\n",
            "375/375 [==============================] - 1s 2ms/step - loss: 0.3249 - accuracy: 0.9100 - val_loss: 0.3097 - val_accuracy: 0.9157\n",
            "Epoch 47/200\n",
            "375/375 [==============================] - 1s 2ms/step - loss: 0.3240 - accuracy: 0.9100 - val_loss: 0.3090 - val_accuracy: 0.9153\n",
            "Epoch 48/200\n",
            "375/375 [==============================] - 1s 2ms/step - loss: 0.3230 - accuracy: 0.9106 - val_loss: 0.3082 - val_accuracy: 0.9163\n",
            "Epoch 49/200\n",
            "375/375 [==============================] - 1s 2ms/step - loss: 0.3221 - accuracy: 0.9107 - val_loss: 0.3076 - val_accuracy: 0.9158\n",
            "Epoch 50/200\n",
            "375/375 [==============================] - 1s 2ms/step - loss: 0.3213 - accuracy: 0.9109 - val_loss: 0.3068 - val_accuracy: 0.9162\n",
            "Epoch 51/200\n",
            "375/375 [==============================] - 1s 2ms/step - loss: 0.3204 - accuracy: 0.9115 - val_loss: 0.3062 - val_accuracy: 0.9155\n",
            "Epoch 52/200\n",
            "375/375 [==============================] - 1s 2ms/step - loss: 0.3195 - accuracy: 0.9114 - val_loss: 0.3055 - val_accuracy: 0.9162\n",
            "Epoch 53/200\n",
            "375/375 [==============================] - 1s 2ms/step - loss: 0.3187 - accuracy: 0.9118 - val_loss: 0.3049 - val_accuracy: 0.9162\n",
            "Epoch 54/200\n",
            "375/375 [==============================] - 1s 2ms/step - loss: 0.3180 - accuracy: 0.9118 - val_loss: 0.3043 - val_accuracy: 0.9166\n",
            "Epoch 55/200\n",
            "375/375 [==============================] - 1s 2ms/step - loss: 0.3172 - accuracy: 0.9123 - val_loss: 0.3038 - val_accuracy: 0.9162\n",
            "Epoch 56/200\n",
            "375/375 [==============================] - 1s 2ms/step - loss: 0.3164 - accuracy: 0.9120 - val_loss: 0.3032 - val_accuracy: 0.9164\n",
            "Epoch 57/200\n",
            "375/375 [==============================] - 1s 2ms/step - loss: 0.3157 - accuracy: 0.9124 - val_loss: 0.3026 - val_accuracy: 0.9167\n",
            "Epoch 58/200\n",
            "375/375 [==============================] - 1s 2ms/step - loss: 0.3150 - accuracy: 0.9127 - val_loss: 0.3020 - val_accuracy: 0.9165\n",
            "Epoch 59/200\n",
            "375/375 [==============================] - 1s 2ms/step - loss: 0.3143 - accuracy: 0.9131 - val_loss: 0.3015 - val_accuracy: 0.9163\n",
            "Epoch 60/200\n",
            "375/375 [==============================] - 1s 2ms/step - loss: 0.3136 - accuracy: 0.9130 - val_loss: 0.3010 - val_accuracy: 0.9168\n",
            "Epoch 61/200\n",
            "375/375 [==============================] - 1s 2ms/step - loss: 0.3130 - accuracy: 0.9134 - val_loss: 0.3005 - val_accuracy: 0.9168\n",
            "Epoch 62/200\n",
            "375/375 [==============================] - 1s 2ms/step - loss: 0.3123 - accuracy: 0.9135 - val_loss: 0.3000 - val_accuracy: 0.9170\n",
            "Epoch 63/200\n",
            "375/375 [==============================] - 1s 2ms/step - loss: 0.3117 - accuracy: 0.9135 - val_loss: 0.2995 - val_accuracy: 0.9164\n",
            "Epoch 64/200\n",
            "375/375 [==============================] - 1s 2ms/step - loss: 0.3111 - accuracy: 0.9138 - val_loss: 0.2990 - val_accuracy: 0.9173\n",
            "Epoch 65/200\n",
            "375/375 [==============================] - 1s 2ms/step - loss: 0.3105 - accuracy: 0.9140 - val_loss: 0.2987 - val_accuracy: 0.9169\n",
            "Epoch 66/200\n",
            "375/375 [==============================] - 1s 2ms/step - loss: 0.3099 - accuracy: 0.9143 - val_loss: 0.2983 - val_accuracy: 0.9171\n",
            "Epoch 67/200\n",
            "375/375 [==============================] - 1s 2ms/step - loss: 0.3093 - accuracy: 0.9144 - val_loss: 0.2978 - val_accuracy: 0.9169\n",
            "Epoch 68/200\n",
            "375/375 [==============================] - 1s 2ms/step - loss: 0.3088 - accuracy: 0.9146 - val_loss: 0.2973 - val_accuracy: 0.9169\n",
            "Epoch 69/200\n",
            "375/375 [==============================] - 1s 2ms/step - loss: 0.3083 - accuracy: 0.9149 - val_loss: 0.2969 - val_accuracy: 0.9173\n",
            "Epoch 70/200\n",
            "375/375 [==============================] - 1s 2ms/step - loss: 0.3077 - accuracy: 0.9151 - val_loss: 0.2966 - val_accuracy: 0.9172\n",
            "Epoch 71/200\n",
            "375/375 [==============================] - 1s 2ms/step - loss: 0.3072 - accuracy: 0.9154 - val_loss: 0.2963 - val_accuracy: 0.9172\n",
            "Epoch 72/200\n",
            "375/375 [==============================] - 1s 2ms/step - loss: 0.3067 - accuracy: 0.9150 - val_loss: 0.2958 - val_accuracy: 0.9173\n",
            "Epoch 73/200\n",
            "375/375 [==============================] - 1s 2ms/step - loss: 0.3062 - accuracy: 0.9153 - val_loss: 0.2954 - val_accuracy: 0.9177\n",
            "Epoch 74/200\n",
            "375/375 [==============================] - 1s 2ms/step - loss: 0.3057 - accuracy: 0.9156 - val_loss: 0.2950 - val_accuracy: 0.9174\n",
            "Epoch 75/200\n",
            "375/375 [==============================] - 1s 2ms/step - loss: 0.3052 - accuracy: 0.9157 - val_loss: 0.2946 - val_accuracy: 0.9178\n",
            "Epoch 76/200\n",
            "375/375 [==============================] - 1s 2ms/step - loss: 0.3047 - accuracy: 0.9159 - val_loss: 0.2943 - val_accuracy: 0.9178\n",
            "Epoch 77/200\n",
            "375/375 [==============================] - 1s 2ms/step - loss: 0.3043 - accuracy: 0.9156 - val_loss: 0.2939 - val_accuracy: 0.9183\n",
            "Epoch 78/200\n",
            "375/375 [==============================] - 1s 2ms/step - loss: 0.3038 - accuracy: 0.9160 - val_loss: 0.2936 - val_accuracy: 0.9181\n",
            "Epoch 79/200\n",
            "375/375 [==============================] - 1s 2ms/step - loss: 0.3034 - accuracy: 0.9165 - val_loss: 0.2933 - val_accuracy: 0.9184\n",
            "Epoch 80/200\n",
            "375/375 [==============================] - 1s 2ms/step - loss: 0.3029 - accuracy: 0.9162 - val_loss: 0.2930 - val_accuracy: 0.9181\n",
            "Epoch 81/200\n",
            "375/375 [==============================] - 1s 2ms/step - loss: 0.3025 - accuracy: 0.9163 - val_loss: 0.2926 - val_accuracy: 0.9185\n",
            "Epoch 82/200\n",
            "375/375 [==============================] - 1s 2ms/step - loss: 0.3020 - accuracy: 0.9162 - val_loss: 0.2923 - val_accuracy: 0.9189\n",
            "Epoch 83/200\n",
            "375/375 [==============================] - 1s 2ms/step - loss: 0.3016 - accuracy: 0.9168 - val_loss: 0.2920 - val_accuracy: 0.9190\n",
            "Epoch 84/200\n",
            "375/375 [==============================] - 1s 2ms/step - loss: 0.3012 - accuracy: 0.9166 - val_loss: 0.2919 - val_accuracy: 0.9185\n",
            "Epoch 85/200\n",
            "375/375 [==============================] - 1s 2ms/step - loss: 0.3008 - accuracy: 0.9167 - val_loss: 0.2914 - val_accuracy: 0.9185\n",
            "Epoch 86/200\n",
            "375/375 [==============================] - 1s 2ms/step - loss: 0.3004 - accuracy: 0.9168 - val_loss: 0.2911 - val_accuracy: 0.9189\n",
            "Epoch 87/200\n",
            "375/375 [==============================] - 1s 2ms/step - loss: 0.3000 - accuracy: 0.9171 - val_loss: 0.2909 - val_accuracy: 0.9196\n",
            "Epoch 88/200\n",
            "375/375 [==============================] - 1s 2ms/step - loss: 0.2996 - accuracy: 0.9170 - val_loss: 0.2907 - val_accuracy: 0.9190\n",
            "Epoch 89/200\n",
            "375/375 [==============================] - 1s 2ms/step - loss: 0.2992 - accuracy: 0.9172 - val_loss: 0.2904 - val_accuracy: 0.9193\n",
            "Epoch 90/200\n",
            "375/375 [==============================] - 1s 2ms/step - loss: 0.2989 - accuracy: 0.9170 - val_loss: 0.2900 - val_accuracy: 0.9195\n",
            "Epoch 91/200\n",
            "375/375 [==============================] - 1s 2ms/step - loss: 0.2985 - accuracy: 0.9173 - val_loss: 0.2898 - val_accuracy: 0.9188\n",
            "Epoch 92/200\n",
            "375/375 [==============================] - 1s 2ms/step - loss: 0.2982 - accuracy: 0.9175 - val_loss: 0.2895 - val_accuracy: 0.9189\n",
            "Epoch 93/200\n",
            "375/375 [==============================] - 1s 2ms/step - loss: 0.2978 - accuracy: 0.9177 - val_loss: 0.2894 - val_accuracy: 0.9195\n",
            "Epoch 94/200\n",
            "375/375 [==============================] - 1s 2ms/step - loss: 0.2975 - accuracy: 0.9174 - val_loss: 0.2891 - val_accuracy: 0.9192\n",
            "Epoch 95/200\n",
            "375/375 [==============================] - 1s 2ms/step - loss: 0.2971 - accuracy: 0.9178 - val_loss: 0.2889 - val_accuracy: 0.9193\n",
            "Epoch 96/200\n",
            "375/375 [==============================] - 1s 2ms/step - loss: 0.2968 - accuracy: 0.9178 - val_loss: 0.2885 - val_accuracy: 0.9193\n",
            "Epoch 97/200\n",
            "375/375 [==============================] - 1s 2ms/step - loss: 0.2965 - accuracy: 0.9178 - val_loss: 0.2883 - val_accuracy: 0.9192\n",
            "Epoch 98/200\n",
            "375/375 [==============================] - 1s 2ms/step - loss: 0.2961 - accuracy: 0.9179 - val_loss: 0.2881 - val_accuracy: 0.9201\n",
            "Epoch 99/200\n",
            "375/375 [==============================] - 1s 2ms/step - loss: 0.2958 - accuracy: 0.9178 - val_loss: 0.2879 - val_accuracy: 0.9195\n",
            "Epoch 100/200\n",
            "375/375 [==============================] - 1s 2ms/step - loss: 0.2955 - accuracy: 0.9179 - val_loss: 0.2877 - val_accuracy: 0.9201\n",
            "Epoch 101/200\n",
            "375/375 [==============================] - 1s 2ms/step - loss: 0.2952 - accuracy: 0.9180 - val_loss: 0.2875 - val_accuracy: 0.9195\n",
            "Epoch 102/200\n",
            "375/375 [==============================] - 1s 2ms/step - loss: 0.2948 - accuracy: 0.9183 - val_loss: 0.2873 - val_accuracy: 0.9193\n",
            "Epoch 103/200\n",
            "375/375 [==============================] - 1s 2ms/step - loss: 0.2946 - accuracy: 0.9181 - val_loss: 0.2870 - val_accuracy: 0.9198\n",
            "Epoch 104/200\n",
            "375/375 [==============================] - 1s 2ms/step - loss: 0.2942 - accuracy: 0.9184 - val_loss: 0.2868 - val_accuracy: 0.9197\n",
            "Epoch 105/200\n",
            "375/375 [==============================] - 1s 2ms/step - loss: 0.2939 - accuracy: 0.9182 - val_loss: 0.2866 - val_accuracy: 0.9201\n",
            "Epoch 106/200\n",
            "375/375 [==============================] - 1s 2ms/step - loss: 0.2937 - accuracy: 0.9184 - val_loss: 0.2863 - val_accuracy: 0.9202\n",
            "Epoch 107/200\n",
            "375/375 [==============================] - 1s 2ms/step - loss: 0.2933 - accuracy: 0.9183 - val_loss: 0.2861 - val_accuracy: 0.9199\n",
            "Epoch 108/200\n",
            "375/375 [==============================] - 1s 2ms/step - loss: 0.2931 - accuracy: 0.9184 - val_loss: 0.2860 - val_accuracy: 0.9202\n",
            "Epoch 109/200\n",
            "375/375 [==============================] - 1s 2ms/step - loss: 0.2928 - accuracy: 0.9185 - val_loss: 0.2858 - val_accuracy: 0.9202\n",
            "Epoch 110/200\n",
            "375/375 [==============================] - 1s 2ms/step - loss: 0.2925 - accuracy: 0.9186 - val_loss: 0.2855 - val_accuracy: 0.9206\n",
            "Epoch 111/200\n",
            "375/375 [==============================] - 1s 2ms/step - loss: 0.2923 - accuracy: 0.9191 - val_loss: 0.2854 - val_accuracy: 0.9203\n",
            "Epoch 112/200\n",
            "375/375 [==============================] - 1s 2ms/step - loss: 0.2920 - accuracy: 0.9188 - val_loss: 0.2852 - val_accuracy: 0.9202\n",
            "Epoch 113/200\n",
            "375/375 [==============================] - 1s 2ms/step - loss: 0.2917 - accuracy: 0.9189 - val_loss: 0.2850 - val_accuracy: 0.9204\n",
            "Epoch 114/200\n",
            "375/375 [==============================] - 1s 2ms/step - loss: 0.2915 - accuracy: 0.9189 - val_loss: 0.2848 - val_accuracy: 0.9207\n",
            "Epoch 115/200\n",
            "375/375 [==============================] - 1s 2ms/step - loss: 0.2912 - accuracy: 0.9192 - val_loss: 0.2847 - val_accuracy: 0.9203\n",
            "Epoch 116/200\n",
            "375/375 [==============================] - 1s 2ms/step - loss: 0.2909 - accuracy: 0.9193 - val_loss: 0.2845 - val_accuracy: 0.9204\n",
            "Epoch 117/200\n",
            "375/375 [==============================] - 1s 2ms/step - loss: 0.2907 - accuracy: 0.9195 - val_loss: 0.2843 - val_accuracy: 0.9208\n",
            "Epoch 118/200\n",
            "375/375 [==============================] - 1s 2ms/step - loss: 0.2904 - accuracy: 0.9194 - val_loss: 0.2842 - val_accuracy: 0.9208\n",
            "Epoch 119/200\n",
            "375/375 [==============================] - 1s 2ms/step - loss: 0.2902 - accuracy: 0.9196 - val_loss: 0.2841 - val_accuracy: 0.9212\n",
            "Epoch 120/200\n",
            "375/375 [==============================] - 1s 2ms/step - loss: 0.2899 - accuracy: 0.9194 - val_loss: 0.2838 - val_accuracy: 0.9211\n",
            "Epoch 121/200\n",
            "375/375 [==============================] - 1s 2ms/step - loss: 0.2897 - accuracy: 0.9194 - val_loss: 0.2836 - val_accuracy: 0.9212\n",
            "Epoch 122/200\n",
            "375/375 [==============================] - 1s 2ms/step - loss: 0.2894 - accuracy: 0.9195 - val_loss: 0.2836 - val_accuracy: 0.9207\n",
            "Epoch 123/200\n",
            "375/375 [==============================] - 1s 2ms/step - loss: 0.2892 - accuracy: 0.9197 - val_loss: 0.2834 - val_accuracy: 0.9211\n",
            "Epoch 124/200\n",
            "375/375 [==============================] - 1s 2ms/step - loss: 0.2890 - accuracy: 0.9198 - val_loss: 0.2832 - val_accuracy: 0.9208\n",
            "Epoch 125/200\n",
            "375/375 [==============================] - 1s 2ms/step - loss: 0.2887 - accuracy: 0.9198 - val_loss: 0.2830 - val_accuracy: 0.9211\n",
            "Epoch 126/200\n",
            "375/375 [==============================] - 1s 2ms/step - loss: 0.2885 - accuracy: 0.9196 - val_loss: 0.2830 - val_accuracy: 0.9210\n",
            "Epoch 127/200\n",
            "375/375 [==============================] - 1s 2ms/step - loss: 0.2883 - accuracy: 0.9199 - val_loss: 0.2828 - val_accuracy: 0.9212\n",
            "Epoch 128/200\n",
            "375/375 [==============================] - 1s 2ms/step - loss: 0.2880 - accuracy: 0.9199 - val_loss: 0.2826 - val_accuracy: 0.9216\n",
            "Epoch 129/200\n",
            "375/375 [==============================] - 1s 2ms/step - loss: 0.2878 - accuracy: 0.9201 - val_loss: 0.2824 - val_accuracy: 0.9212\n",
            "Epoch 130/200\n",
            "375/375 [==============================] - 1s 2ms/step - loss: 0.2876 - accuracy: 0.9200 - val_loss: 0.2823 - val_accuracy: 0.9212\n",
            "Epoch 131/200\n",
            "375/375 [==============================] - 1s 2ms/step - loss: 0.2874 - accuracy: 0.9200 - val_loss: 0.2822 - val_accuracy: 0.9212\n",
            "Epoch 132/200\n",
            "375/375 [==============================] - 1s 2ms/step - loss: 0.2872 - accuracy: 0.9199 - val_loss: 0.2820 - val_accuracy: 0.9209\n",
            "Epoch 133/200\n",
            "375/375 [==============================] - 1s 2ms/step - loss: 0.2870 - accuracy: 0.9202 - val_loss: 0.2818 - val_accuracy: 0.9213\n",
            "Epoch 134/200\n",
            "375/375 [==============================] - 1s 2ms/step - loss: 0.2868 - accuracy: 0.9202 - val_loss: 0.2817 - val_accuracy: 0.9210\n",
            "Epoch 135/200\n",
            "375/375 [==============================] - 1s 2ms/step - loss: 0.2865 - accuracy: 0.9206 - val_loss: 0.2815 - val_accuracy: 0.9211\n",
            "Epoch 136/200\n",
            "375/375 [==============================] - 1s 2ms/step - loss: 0.2863 - accuracy: 0.9205 - val_loss: 0.2815 - val_accuracy: 0.9214\n",
            "Epoch 137/200\n",
            "375/375 [==============================] - 1s 2ms/step - loss: 0.2861 - accuracy: 0.9205 - val_loss: 0.2813 - val_accuracy: 0.9210\n",
            "Epoch 138/200\n",
            "375/375 [==============================] - 1s 2ms/step - loss: 0.2859 - accuracy: 0.9204 - val_loss: 0.2812 - val_accuracy: 0.9212\n",
            "Epoch 139/200\n",
            "375/375 [==============================] - 1s 2ms/step - loss: 0.2857 - accuracy: 0.9206 - val_loss: 0.2810 - val_accuracy: 0.9212\n",
            "Epoch 140/200\n",
            "375/375 [==============================] - 1s 2ms/step - loss: 0.2855 - accuracy: 0.9207 - val_loss: 0.2810 - val_accuracy: 0.9208\n",
            "Epoch 141/200\n",
            "375/375 [==============================] - 1s 2ms/step - loss: 0.2853 - accuracy: 0.9208 - val_loss: 0.2809 - val_accuracy: 0.9213\n",
            "Epoch 142/200\n",
            "375/375 [==============================] - 1s 2ms/step - loss: 0.2851 - accuracy: 0.9207 - val_loss: 0.2807 - val_accuracy: 0.9216\n",
            "Epoch 143/200\n",
            "375/375 [==============================] - 1s 2ms/step - loss: 0.2849 - accuracy: 0.9206 - val_loss: 0.2805 - val_accuracy: 0.9208\n",
            "Epoch 144/200\n",
            "375/375 [==============================] - 1s 2ms/step - loss: 0.2848 - accuracy: 0.9210 - val_loss: 0.2805 - val_accuracy: 0.9212\n",
            "Epoch 145/200\n",
            "375/375 [==============================] - 1s 2ms/step - loss: 0.2845 - accuracy: 0.9208 - val_loss: 0.2804 - val_accuracy: 0.9215\n",
            "Epoch 146/200\n",
            "375/375 [==============================] - 1s 2ms/step - loss: 0.2844 - accuracy: 0.9211 - val_loss: 0.2802 - val_accuracy: 0.9216\n",
            "Epoch 147/200\n",
            "375/375 [==============================] - 1s 2ms/step - loss: 0.2841 - accuracy: 0.9210 - val_loss: 0.2802 - val_accuracy: 0.9215\n",
            "Epoch 148/200\n",
            "375/375 [==============================] - 1s 2ms/step - loss: 0.2840 - accuracy: 0.9211 - val_loss: 0.2800 - val_accuracy: 0.9216\n",
            "Epoch 149/200\n",
            "375/375 [==============================] - 1s 2ms/step - loss: 0.2838 - accuracy: 0.9212 - val_loss: 0.2800 - val_accuracy: 0.9214\n",
            "Epoch 150/200\n",
            "375/375 [==============================] - 1s 2ms/step - loss: 0.2836 - accuracy: 0.9211 - val_loss: 0.2798 - val_accuracy: 0.9215\n",
            "Epoch 151/200\n",
            "375/375 [==============================] - 1s 2ms/step - loss: 0.2835 - accuracy: 0.9214 - val_loss: 0.2797 - val_accuracy: 0.9212\n",
            "Epoch 152/200\n",
            "375/375 [==============================] - 1s 2ms/step - loss: 0.2833 - accuracy: 0.9214 - val_loss: 0.2795 - val_accuracy: 0.9217\n",
            "Epoch 153/200\n",
            "375/375 [==============================] - 1s 2ms/step - loss: 0.2831 - accuracy: 0.9214 - val_loss: 0.2794 - val_accuracy: 0.9215\n",
            "Epoch 154/200\n",
            "375/375 [==============================] - 1s 2ms/step - loss: 0.2829 - accuracy: 0.9212 - val_loss: 0.2794 - val_accuracy: 0.9211\n",
            "Epoch 155/200\n",
            "375/375 [==============================] - 1s 2ms/step - loss: 0.2828 - accuracy: 0.9216 - val_loss: 0.2792 - val_accuracy: 0.9221\n",
            "Epoch 156/200\n",
            "375/375 [==============================] - 1s 2ms/step - loss: 0.2826 - accuracy: 0.9214 - val_loss: 0.2790 - val_accuracy: 0.9225\n",
            "Epoch 157/200\n",
            "375/375 [==============================] - 1s 2ms/step - loss: 0.2824 - accuracy: 0.9216 - val_loss: 0.2790 - val_accuracy: 0.9218\n",
            "Epoch 158/200\n",
            "375/375 [==============================] - 1s 2ms/step - loss: 0.2823 - accuracy: 0.9216 - val_loss: 0.2789 - val_accuracy: 0.9221\n",
            "Epoch 159/200\n",
            "375/375 [==============================] - 1s 2ms/step - loss: 0.2821 - accuracy: 0.9216 - val_loss: 0.2788 - val_accuracy: 0.9223\n",
            "Epoch 160/200\n",
            "375/375 [==============================] - 1s 2ms/step - loss: 0.2819 - accuracy: 0.9217 - val_loss: 0.2787 - val_accuracy: 0.9222\n",
            "Epoch 161/200\n",
            "375/375 [==============================] - 1s 2ms/step - loss: 0.2818 - accuracy: 0.9216 - val_loss: 0.2786 - val_accuracy: 0.9221\n",
            "Epoch 162/200\n",
            "375/375 [==============================] - 1s 2ms/step - loss: 0.2816 - accuracy: 0.9221 - val_loss: 0.2786 - val_accuracy: 0.9222\n",
            "Epoch 163/200\n",
            "375/375 [==============================] - 1s 2ms/step - loss: 0.2814 - accuracy: 0.9215 - val_loss: 0.2784 - val_accuracy: 0.9222\n",
            "Epoch 164/200\n",
            "375/375 [==============================] - 1s 2ms/step - loss: 0.2813 - accuracy: 0.9220 - val_loss: 0.2783 - val_accuracy: 0.9229\n",
            "Epoch 165/200\n",
            "375/375 [==============================] - 1s 3ms/step - loss: 0.2811 - accuracy: 0.9218 - val_loss: 0.2781 - val_accuracy: 0.9222\n",
            "Epoch 166/200\n",
            "375/375 [==============================] - 1s 3ms/step - loss: 0.2810 - accuracy: 0.9219 - val_loss: 0.2781 - val_accuracy: 0.9225\n",
            "Epoch 167/200\n",
            "375/375 [==============================] - 1s 3ms/step - loss: 0.2808 - accuracy: 0.9221 - val_loss: 0.2781 - val_accuracy: 0.9224\n",
            "Epoch 168/200\n",
            "375/375 [==============================] - 1s 3ms/step - loss: 0.2807 - accuracy: 0.9220 - val_loss: 0.2779 - val_accuracy: 0.9222\n",
            "Epoch 169/200\n",
            "375/375 [==============================] - 1s 3ms/step - loss: 0.2805 - accuracy: 0.9221 - val_loss: 0.2778 - val_accuracy: 0.9226\n",
            "Epoch 170/200\n",
            "375/375 [==============================] - 1s 3ms/step - loss: 0.2803 - accuracy: 0.9219 - val_loss: 0.2778 - val_accuracy: 0.9222\n",
            "Epoch 171/200\n",
            "375/375 [==============================] - 1s 2ms/step - loss: 0.2802 - accuracy: 0.9222 - val_loss: 0.2777 - val_accuracy: 0.9226\n",
            "Epoch 172/200\n",
            "375/375 [==============================] - 1s 2ms/step - loss: 0.2800 - accuracy: 0.9222 - val_loss: 0.2777 - val_accuracy: 0.9224\n",
            "Epoch 173/200\n",
            "375/375 [==============================] - 1s 2ms/step - loss: 0.2799 - accuracy: 0.9223 - val_loss: 0.2774 - val_accuracy: 0.9228\n",
            "Epoch 174/200\n",
            "375/375 [==============================] - 1s 2ms/step - loss: 0.2798 - accuracy: 0.9223 - val_loss: 0.2774 - val_accuracy: 0.9230\n",
            "Epoch 175/200\n",
            "375/375 [==============================] - 1s 2ms/step - loss: 0.2796 - accuracy: 0.9225 - val_loss: 0.2774 - val_accuracy: 0.9227\n",
            "Epoch 176/200\n",
            "375/375 [==============================] - 1s 2ms/step - loss: 0.2795 - accuracy: 0.9223 - val_loss: 0.2772 - val_accuracy: 0.9230\n",
            "Epoch 177/200\n",
            "375/375 [==============================] - 1s 2ms/step - loss: 0.2793 - accuracy: 0.9222 - val_loss: 0.2771 - val_accuracy: 0.9229\n",
            "Epoch 178/200\n",
            "375/375 [==============================] - 1s 2ms/step - loss: 0.2792 - accuracy: 0.9224 - val_loss: 0.2770 - val_accuracy: 0.9229\n",
            "Epoch 179/200\n",
            "375/375 [==============================] - 1s 2ms/step - loss: 0.2790 - accuracy: 0.9227 - val_loss: 0.2769 - val_accuracy: 0.9232\n",
            "Epoch 180/200\n",
            "375/375 [==============================] - 1s 2ms/step - loss: 0.2789 - accuracy: 0.9226 - val_loss: 0.2769 - val_accuracy: 0.9228\n",
            "Epoch 181/200\n",
            "375/375 [==============================] - 1s 2ms/step - loss: 0.2788 - accuracy: 0.9227 - val_loss: 0.2768 - val_accuracy: 0.9227\n",
            "Epoch 182/200\n",
            "375/375 [==============================] - 1s 2ms/step - loss: 0.2786 - accuracy: 0.9226 - val_loss: 0.2767 - val_accuracy: 0.9230\n",
            "Epoch 183/200\n",
            "375/375 [==============================] - 1s 2ms/step - loss: 0.2785 - accuracy: 0.9227 - val_loss: 0.2766 - val_accuracy: 0.9227\n",
            "Epoch 184/200\n",
            "375/375 [==============================] - 1s 2ms/step - loss: 0.2784 - accuracy: 0.9225 - val_loss: 0.2765 - val_accuracy: 0.9234\n",
            "Epoch 185/200\n",
            "375/375 [==============================] - 1s 2ms/step - loss: 0.2782 - accuracy: 0.9227 - val_loss: 0.2765 - val_accuracy: 0.9234\n",
            "Epoch 186/200\n",
            "375/375 [==============================] - 1s 2ms/step - loss: 0.2781 - accuracy: 0.9224 - val_loss: 0.2764 - val_accuracy: 0.9233\n",
            "Epoch 187/200\n",
            "375/375 [==============================] - 1s 2ms/step - loss: 0.2779 - accuracy: 0.9228 - val_loss: 0.2764 - val_accuracy: 0.9233\n",
            "Epoch 188/200\n",
            "375/375 [==============================] - 1s 2ms/step - loss: 0.2778 - accuracy: 0.9228 - val_loss: 0.2762 - val_accuracy: 0.9232\n",
            "Epoch 189/200\n",
            "375/375 [==============================] - 1s 2ms/step - loss: 0.2777 - accuracy: 0.9230 - val_loss: 0.2761 - val_accuracy: 0.9237\n",
            "Epoch 190/200\n",
            "375/375 [==============================] - 1s 2ms/step - loss: 0.2776 - accuracy: 0.9226 - val_loss: 0.2762 - val_accuracy: 0.9233\n",
            "Epoch 191/200\n",
            "375/375 [==============================] - 1s 2ms/step - loss: 0.2774 - accuracy: 0.9227 - val_loss: 0.2760 - val_accuracy: 0.9237\n",
            "Epoch 192/200\n",
            "375/375 [==============================] - 1s 2ms/step - loss: 0.2773 - accuracy: 0.9228 - val_loss: 0.2760 - val_accuracy: 0.9235\n",
            "Epoch 193/200\n",
            "375/375 [==============================] - 1s 2ms/step - loss: 0.2772 - accuracy: 0.9228 - val_loss: 0.2759 - val_accuracy: 0.9235\n",
            "Epoch 194/200\n",
            "375/375 [==============================] - 1s 2ms/step - loss: 0.2771 - accuracy: 0.9231 - val_loss: 0.2758 - val_accuracy: 0.9234\n",
            "Epoch 195/200\n",
            "375/375 [==============================] - 1s 2ms/step - loss: 0.2769 - accuracy: 0.9228 - val_loss: 0.2757 - val_accuracy: 0.9235\n",
            "Epoch 196/200\n",
            "375/375 [==============================] - 1s 2ms/step - loss: 0.2768 - accuracy: 0.9231 - val_loss: 0.2758 - val_accuracy: 0.9242\n",
            "Epoch 197/200\n",
            "375/375 [==============================] - 1s 2ms/step - loss: 0.2766 - accuracy: 0.9229 - val_loss: 0.2758 - val_accuracy: 0.9227\n",
            "Epoch 198/200\n",
            "375/375 [==============================] - 1s 2ms/step - loss: 0.2766 - accuracy: 0.9232 - val_loss: 0.2756 - val_accuracy: 0.9234\n",
            "Epoch 199/200\n",
            "375/375 [==============================] - 1s 2ms/step - loss: 0.2764 - accuracy: 0.9231 - val_loss: 0.2754 - val_accuracy: 0.9233\n",
            "Epoch 200/200\n",
            "375/375 [==============================] - 1s 2ms/step - loss: 0.2763 - accuracy: 0.9232 - val_loss: 0.2754 - val_accuracy: 0.9236\n"
          ],
          "name": "stdout"
        },
        {
          "output_type": "execute_result",
          "data": {
            "text/plain": [
              "<tensorflow.python.keras.callbacks.History at 0x7fe26df0ba58>"
            ]
          },
          "metadata": {
            "tags": []
          },
          "execution_count": 12
        }
      ]
    },
    {
      "cell_type": "code",
      "metadata": {
        "id": "NNW3eJVLBRpl",
        "colab_type": "code",
        "colab": {
          "base_uri": "https://localhost:8080/",
          "height": 68
        },
        "outputId": "f69c8fa0-30ec-4f72-8c4f-e09aa257a238"
      },
      "source": [
        "score = model.evaluate(X_test, Y_test, verbose=VERBOSE)\n",
        "print(\"¥nTest score:\", score[0])\n",
        "print('Test accuracy:', score[1])"
      ],
      "execution_count": 13,
      "outputs": [
        {
          "output_type": "stream",
          "text": [
            "313/313 [==============================] - 0s 851us/step - loss: 0.2771 - accuracy: 0.9228\n",
            "¥nTest score: 0.2771424949169159\n",
            "Test accuracy: 0.9228000044822693\n"
          ],
          "name": "stdout"
        }
      ]
    },
    {
      "cell_type": "code",
      "metadata": {
        "id": "bMCywqmzCXMR",
        "colab_type": "code",
        "colab": {}
      },
      "source": [
        ""
      ],
      "execution_count": null,
      "outputs": []
    }
  ]
}